{
 "cells": [
  {
   "cell_type": "code",
   "execution_count": 2,
   "id": "c8059918-adb1-4234-a703-8e6ddde9c760",
   "metadata": {},
   "outputs": [],
   "source": [
    "import pyTigerGraph as tg\n",
    "from pyTigerGraph import TigerGraphConnection"
   ]
  },
  {
   "cell_type": "code",
   "execution_count": 3,
   "id": "fb7b3203-73f4-4e23-9784-94d7aca06ce5",
   "metadata": {},
   "outputs": [],
   "source": [
    "conn = TigerGraphConnection(host=\"http://34.232.63.121\", username=\"tigergraph\", password=\"tigergraph\", graphname=\"BankSim\")"
   ]
  },
  {
   "cell_type": "code",
   "execution_count": 4,
   "id": "8fef49ee-d207-4d80-ac77-e93c111cf067",
   "metadata": {},
   "outputs": [],
   "source": [
    "f = conn.gds.featurizer()"
   ]
  },
  {
   "cell_type": "code",
   "execution_count": null,
   "id": "8dc84a85-1d89-42c3-8362-129d48fe9d7b",
   "metadata": {},
   "outputs": [],
   "source": [
    "# f.listAlgorithms()"
   ]
  },
  {
   "cell_type": "code",
   "execution_count": null,
   "id": "193c865e-e061-4a91-82ab-df666b304df5",
   "metadata": {},
   "outputs": [],
   "source": [
    "f.installAlgorithm(\"tg_pagerank\")"
   ]
  },
  {
   "cell_type": "code",
   "execution_count": null,
   "id": "ba833564-b0e5-4782-a941-2a02f475f0b8",
   "metadata": {},
   "outputs": [],
   "source": [
    "# params = {'v_type': 'Account', 'e_type': 'Transaction', 'max_change': 0.001, 'max_iter': 25, 'damping': 0.85, \n",
    "#          'top_k': 100, 'print_accum': True, 'result_attr':'pagerank','file_path':'','display_edges': False}\n",
    "params = {'v_type': 'Payer', 'e_type': 'Trans', 'max_change': 0.001, 'max_iter': 25, 'damping': 0.85, \n",
    "         'top_k': 100, 'print_accum': False, 'result_attr':'','file_path':'','display_edges': False}\n",
    "\n",
    "res=f.runAlgorithm('tg_pagerank',params=params,feat_name=\"pagerank\")\n",
    "print(res)\n"
   ]
  },
  {
   "cell_type": "code",
   "execution_count": null,
   "id": "d201ca85-afb6-47e2-9276-c64a61e76386",
   "metadata": {},
   "outputs": [],
   "source": [
    "f.installAlgorithm(\"tg_article_rank\")"
   ]
  },
  {
   "cell_type": "code",
   "execution_count": null,
   "id": "54bf3aec-b4b2-44b5-b3bc-5d09d12e2b71",
   "metadata": {},
   "outputs": [],
   "source": [
    "params = {'v_type': 'Payer', 'e_type': 'Trans', 'max_change': 0.001, 'max_iter': 25, 'damping': 0.85, \n",
    "         'top_k': 100, 'print_accum': False, 'result_attr':'','file_path':''}\n",
    "res=f.runAlgorithm('tg_article_rank',params=params,feat_name=\"articlerank\")\n",
    "print(res)"
   ]
  },
  {
   "cell_type": "code",
   "execution_count": 5,
   "id": "56182050-4a81-4e46-b45a-ed9969b9d04b",
   "metadata": {},
   "outputs": [
    {
     "name": "stdout",
     "output_type": "stream",
     "text": [
      "Installing and optimizing the queries, it might take a minute\n"
     ]
    },
    {
     "data": {
      "text/plain": [
       "'tg_betweenness_cent'"
      ]
     },
     "execution_count": 5,
     "metadata": {},
     "output_type": "execute_result"
    }
   ],
   "source": [
    "f.installAlgorithm(\"tg_betweenness_cent\")"
   ]
  },
  {
   "cell_type": "code",
   "execution_count": null,
   "id": "d15783cb-4195-41c7-9375-cda4bf02e2c0",
   "metadata": {},
   "outputs": [],
   "source": [
    "params = {'v_type': 'Payer', 'e_type': 'Trans',\"re_type\":\"reverse_Trans\", 'max_change': 0.001, 'max_iter': 25, 'damping': 0.85, \n",
    "         'top_k': 100, 'print_accum': False, 'result_attr':'','file_path':'','display_edges': False}\n",
    "\n",
    "res=f.runAlgorithm('tg_betweenness_cent',params=params,feat_name=\"bt_cent\")\n",
    "print(res)\n"
   ]
  },
  {
   "cell_type": "code",
   "execution_count": null,
   "id": "832fb0fe-93b4-4ae6-9b1a-de7e3506c3ba",
   "metadata": {},
   "outputs": [],
   "source": [
    "f.installAlgorithm(\"tg_common_neighbors\")"
   ]
  },
  {
   "cell_type": "code",
   "execution_count": null,
   "id": "eda4f4d1-ecc4-446c-b236-cdc9a534fbbe",
   "metadata": {},
   "outputs": [],
   "source": [
    "params={\"a\":(\"C17166563\",\"Payer\"),\"b\":(\"M1946091778\",\"Payer\"),\"e_type\":\"Trans\",\"print_res\":True}#\"C17166563\", \"M1946091778\"\n",
    "res=f.runAlgorithm('tg_common_neighbors',params)\n",
    "res"
   ]
  },
  {
   "cell_type": "code",
   "execution_count": null,
   "id": "077d8513-40e2-4f9a-90ac-b8ac3aa3a203",
   "metadata": {},
   "outputs": [],
   "source": [
    "f.installAlgorithm(query_name='tg_label_prop')"
   ]
  },
  {
   "cell_type": "code",
   "execution_count": null,
   "id": "12563dab-b96b-4f32-a07b-7a14c612d927",
   "metadata": {},
   "outputs": [],
   "source": [
    "# params = {'v_type': 'Account', 'e_type': ['Transaction','reverse_Transaction'], 'max_iter': 10, 'output_limit': 10, 'print_accum': False}\n",
    "params = {'v_type': 'Payer', 'e_type': ['Trans','reverse_Trans'], 'max_iter': 10,'attr':\"label\" ,'output_limit': 10, 'print_accum': False}\n",
    "\n",
    "f.runAlgorithm('tg_label_prop',params = params,attr_name=\"label\")"
   ]
  },
  {
   "cell_type": "code",
   "execution_count": null,
   "id": "fdfa669c-4d41-4a49-b824-c90231d3bae6",
   "metadata": {},
   "outputs": [],
   "source": [
    "f.installAlgorithm(query_name='tg_louvain')"
   ]
  },
  {
   "cell_type": "code",
   "execution_count": null,
   "id": "33787c45-1b8f-4c12-ad61-95a6ca66132e",
   "metadata": {},
   "outputs": [],
   "source": [
    "params = {'v_type': 'Payer', 'e_type':['Trans','reverse_Trans'],'wt_attr':\"\",'max_iter':10,'result_attr':\"cid\",'file_path' :\"\",'print_info':True}\n",
    "res = f.runAlgorithm('tg_louvain',params,feat_name=\"cid\")\n",
    "print(res)\n",
    "print(type(res[0]))"
   ]
  },
  {
   "cell_type": "code",
   "execution_count": null,
   "id": "b1895f07-0422-4f0c-8bba-dd773bdbfc21",
   "metadata": {},
   "outputs": [],
   "source": [
    "f.runAlgorithm('tg_fastRP',params)"
   ]
  },
  {
   "cell_type": "code",
   "execution_count": null,
   "id": "4ac80e53-b49b-4aa2-a83c-6638fdce7f25",
   "metadata": {},
   "outputs": [],
   "source": [
    "f.installAlgorithm(\"tg_fastRP\")"
   ]
  },
  {
   "cell_type": "code",
   "execution_count": null,
   "id": "664e8b57-285a-4cc8-b19f-d07a2e160d7b",
   "metadata": {},
   "outputs": [],
   "source": [
    "params = {'v_type': 'Payer', 'e_type': ['Trans','reverse_Trans'], 'weights': '1,1,2', 'beta': -0.85, 'k': 3, 'reduced_dim': 128, \n",
    "          'sampling_constant': 1, 'random_seed': 42, 'print_accum': False}\n",
    "f.runAlgorithm('tg_fastRP',params)"
   ]
  },
  {
   "cell_type": "code",
   "execution_count": null,
   "id": "21876acf-724b-44f8-85e8-5d36f3262894",
   "metadata": {},
   "outputs": [],
   "source": [
    "import datetime\n",
    "def parseQueryParameters(params: dict) -> str:\n",
    "        \"\"\"Parse a dictionary of query parameters and convert them to query string.\n",
    "\n",
    "        While most of the values provided for various query parameter types can be easily converted\n",
    "        to query string (key1=value1&key2=value2), SET and BAG parameter types, and especially\n",
    "        VERTEX and SET<VERTEX> (i.e. vertex primary ID types without vertex type specification)\n",
    "        require special handling.\n",
    "        See https://docs.tigergraph.com/tigergraph-server/current/api/built-in-endpoints#_query_parameter_passing\n",
    "\n",
    "        TODO Accept this format for SET<VERTEX>:\n",
    "            \"key\": [([p_id1, p_id2, ...], \"vtype\"), ...]\n",
    "            I.e. multiple primary IDs of the same vertex type\n",
    "        \"\"\"\n",
    "        ret = \"\"\n",
    "        for k, v in params.items():\n",
    "            if isinstance(v, tuple):\n",
    "                if len(v) == 2 and isinstance(v[1], str):\n",
    "                    ret += k + \"=\" + str(v[0]) + \"&\" + k + \".type=\" + self._safeChar(v[1]) + \"&\"\n",
    "                else:\n",
    "                    raise TigerGraphException(\n",
    "                        \"Invalid parameter value: (vertex_primary_id, vertex_type) was expected.\")\n",
    "            elif isinstance(v, list):\n",
    "                i = 0\n",
    "                for vv in v:\n",
    "                    if isinstance(vv, tuple):\n",
    "                        if len(vv) == 2 and isinstance(vv[1], str):\n",
    "                            ret += k + \"[\" + str(i) + \"]=\" + self._safeChar(vv[0]) + \"&\" + \\\n",
    "                                   k + \"[\" + str(i) + \"].type=\" + vv[1] + \"&\"\n",
    "                        else:\n",
    "                            raise TigerGraphException(\n",
    "                                \"Invalid parameter value: (vertex_primary_id, vertex_type) was expected.\")\n",
    "                    else:\n",
    "                        ret += k + \"=\" + self._safeChar(vv) + \"&\"\n",
    "                    i += 1\n",
    "            elif isinstance(v, datetime):\n",
    "                ret += k + \"=\" + self._safeChar(v.strftime(\"%Y-%m-%d %H:%M:%S\")) + \"&\"\n",
    "            else:\n",
    "                ret += k + \"=\" + self._safeChar(v) + \"&\"\n",
    "        return ret[:-1]\n",
    "    \n",
    "    \n",
    "def createParamString(params):\n",
    "        paramUrl = \"\"\n",
    "        for p in params.keys():\n",
    "            if isinstance(params[p], list):\n",
    "                for i in params[p]:\n",
    "                    paramUrl += p+\"=\"+str(i)+\"&\"\n",
    "            else:\n",
    "                paramUrl += (p+\"=\"+str(params[p])+\"&\")\n",
    "        paramUrl = paramUrl[:-1]\n",
    "        return paramUrl"
   ]
  },
  {
   "cell_type": "code",
   "execution_count": null,
   "id": "4ed0a88b-3c5b-4408-942d-51d9839dd001",
   "metadata": {},
   "outputs": [],
   "source": [
    "params = {'v_type': 'Payer', 'e_type': ['Trans','reverse_Trans'], 'weights': '1,1,2', 'beta': -0.85, 'k': 3, 'reduced_dim': 128, \n",
    "          'sampling_constant': 1, 'random_seed': 42, 'print_accum': True}\n",
    "params = createParamString(params=params)\n",
    "params"
   ]
  }
 ],
 "metadata": {
  "kernelspec": {
   "display_name": "Python 3 (ipykernel)",
   "language": "python",
   "name": "python3"
  },
  "language_info": {
   "codemirror_mode": {
    "name": "ipython",
    "version": 3
   },
   "file_extension": ".py",
   "mimetype": "text/x-python",
   "name": "python",
   "nbconvert_exporter": "python",
   "pygments_lexer": "ipython3",
   "version": "3.9.7"
  }
 },
 "nbformat": 4,
 "nbformat_minor": 5
}
