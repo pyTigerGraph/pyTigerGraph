{
 "cells": [
  {
   "cell_type": "code",
   "execution_count": 1,
   "id": "c8059918-adb1-4234-a703-8e6ddde9c760",
   "metadata": {},
   "outputs": [],
   "source": [
    "import pyTigerGraph as tg\n",
    "from pyTigerGraph import TigerGraphConnection"
   ]
  },
  {
   "cell_type": "code",
   "execution_count": 2,
   "id": "fb7b3203-73f4-4e23-9784-94d7aca06ce5",
   "metadata": {},
   "outputs": [],
   "source": [
    "conn = TigerGraphConnection(host=\"http://34.232.63.121\", username=\"tigergraph\", password=\"tigergraph\", graphname=\"BankSim\")"
   ]
  },
  {
   "cell_type": "code",
   "execution_count": 3,
   "id": "8fef49ee-d207-4d80-ac77-e93c111cf067",
   "metadata": {},
   "outputs": [],
   "source": [
    "f = conn.gds.featurizer()"
   ]
  },
  {
   "cell_type": "code",
   "execution_count": 4,
   "id": "8dc84a85-1d89-42c3-8362-129d48fe9d7b",
   "metadata": {},
   "outputs": [
    {
     "name": "stdout",
     "output_type": "stream",
     "text": [
      "The list of algorithms in the GDS (https://github.com/tigergraph/gsql-graph-algorithms):\n",
      "Centrality: \n",
      " pagerank: \n",
      "  global: \n",
      "   weigthed: \n",
      "    https://github.com/tigergraph/gsql-graph-algorithms/blob/master/algorithms/Centrality/pagerank/global/weighted/tg_pagerank_wt.gsql: \n",
      "   unweighted: \n",
      "    https://github.com/tigergraph/gsql-graph-algorithms/blob/master/algorithms/Centrality/pagerank/global/unweighted/tg_pagerank.gsql: \n",
      " article_rank: \n",
      "  https://github.com/tigergraph/gsql-graph-algorithms/blob/master/algorithms/Centrality/article_rank/tg_article_rank.gsql: \n",
      " Betweenness: \n",
      "  https://github.com/tigergraph/gsql-graph-algorithms/blob/master/algorithms/Centrality/betweenness/tg_betweenness_cent.gsql: \n",
      " closeness: \n",
      "  approximate: \n",
      "   https://github.com/tigergraph/gsql-graph-algorithms/blob/master/algorithms/Centrality/closeness/approximate/tg_closeness_cent_approx.gsql: \n",
      "  exact: \n",
      "   https://github.com/tigergraph/gsql-graph-algorithms/blob/master/algorithms/Centrality/closeness/exact/tg_closeness_cent.gsql: \n",
      " degree: \n",
      "  https://github.com/tigergraph/gsql-graph-algorithms/blob/master/algorithms/Centrality/degree/tg_degree_cent.gsql: \n",
      " eigenvector: \n",
      "  https://github.com/tigergraph/gsql-graph-algorithms/blob/master/algorithms/Centrality/eigenvector/tg_eigenvector_cent.gsql: \n",
      " harmonic: \n",
      "  https://github.com/tigergraph/gsql-graph-algorithms/blob/master/algorithms/Centrality/harmonic/tg_harmonic_cent.gsql: \n",
      "Classification: \n",
      " maximal_independent_set: \n",
      "  deterministic: \n",
      "   https://github.com/tigergraph/gsql-graph-algorithms/blob/master/algorithms/Classification/maximal_independent_set/deterministic/tg_maximal_indep_set.gsql: \n",
      "Community: \n",
      " connected_components: \n",
      "  strongly_connected_components: \n",
      "   standard: \n",
      "    https://github.com/tigergraph/gsql-graph-algorithms/blob/master/algorithms/Community/connected_components/strongly_connected_components/standard/tg_scc.gsql: \n",
      " k_core: \n",
      "  https://github.com/tigergraph/gsql-graph-algorithms/blob/master/algorithms/Community/k_core/tg_kcore.gsql: \n",
      " label_propagation: \n",
      "  https://github.com/tigergraph/gsql-graph-algorithms/blob/master/algorithms/Community/label_propagation/tg_label_prop.gsql: \n",
      " local_clustering_coefficient: \n",
      "  https://github.com/tigergraph/gsql-graph-algorithms/blob/master/algorithms/Community/local_clustering_coefficient/tg_lcc.gsql: \n",
      " louvain: \n",
      "  https://github.com/tigergraph/gsql-graph-algorithms/blob/master/algorithms/Community/louvain/tg_louvain.gsql: \n",
      " triangle_counting: \n",
      "  fast: \n",
      "   https://github.com/tigergraph/gsql-graph-algorithms/blob/master/algorithms/Community/triangle_counting/fast/tg_tri_count_fast.gsql: \n",
      "Embeddings: \n",
      " FastRP: \n",
      "  https://github.com/tigergraph/gsql-graph-algorithms/blob/master/algorithms/GraphML/Embeddings/FastRP/tg_fastRP.gsql: \n",
      "Path: \n",
      " bfs: \n",
      "  https://github.com/tigergraph/gsql-graph-algorithms/blob/master/algorithms/Path/bfs/tg_bfs.gsql: \n",
      " cycle_detection: \n",
      "  count: \n",
      "   https://github.com/tigergraph/gsql-graph-algorithms/blob/master/algorithms/Path/cycle_detection/count/tg_cycle_detection_count.gsql: \n",
      " shortest_path: \n",
      "  unweighted: \n",
      "   https://github.com/tigergraph/gsql-graph-algorithms/blob/master/algorithms/Path/shortest_path/unweighted/tg_shortest_ss_no_wt.gsql: \n",
      "Topological Link Prediction: \n",
      " common_neighbors: \n",
      "  https://github.com/tigergraph/gsql-graph-algorithms/blob/master/algorithms/Topological%20Link%20Prediction/common_neighbors/tg_common_neighbors.gsql: \n",
      " preferential_attachment: \n",
      "  https://github.com/tigergraph/gsql-graph-algorithms/blob/master/algorithms/Topological%20Link%20Prediction/preferential_attachment/tg_preferential_attachment.gsql: \n",
      " same_community: \n",
      "  https://github.com/tigergraph/gsql-graph-algorithms/blob/master/algorithms/Topological%20Link%20Prediction/same_community/tg_same_community.gsql: \n",
      " total_neighbors: \n",
      "  https://github.com/tigergraph/gsql-graph-algorithms/blob/master/algorithms/Topological%20Link%20Prediction/total_neighbors/tg_total_neighbors.gsql: \n"
     ]
    }
   ],
   "source": [
    "f.listAlgorithms()"
   ]
  },
  {
   "cell_type": "code",
   "execution_count": null,
   "id": "193c865e-e061-4a91-82ab-df666b304df5",
   "metadata": {},
   "outputs": [],
   "source": [
    "f.installAlgorithm(\"tg_pagerank\")"
   ]
  },
  {
   "cell_type": "code",
   "execution_count": null,
   "id": "ba833564-b0e5-4782-a941-2a02f475f0b8",
   "metadata": {},
   "outputs": [],
   "source": [
    "params = {'v_type': 'Payer', 'e_type': 'Trans', 'max_change': 0.001, 'max_iter': 25, 'damping': 0.85, \n",
    "         'top_k': 100, 'print_accum': False, 'result_attr':'','file_path':'','display_edges': False}\n",
    "\n",
    "res=f.runAlgorithm('tg_pagerank',params=params,feat_name=\"pagerank\")\n",
    "print(res)\n"
   ]
  },
  {
   "cell_type": "code",
   "execution_count": null,
   "id": "d201ca85-afb6-47e2-9276-c64a61e76386",
   "metadata": {},
   "outputs": [],
   "source": [
    "f.installAlgorithm(\"tg_article_rank\")"
   ]
  },
  {
   "cell_type": "code",
   "execution_count": null,
   "id": "54bf3aec-b4b2-44b5-b3bc-5d09d12e2b71",
   "metadata": {},
   "outputs": [],
   "source": [
    "params = {'v_type': 'Payer', 'e_type': 'Trans', 'max_change': 0.001, 'max_iter': 25, 'damping': 0.85, \n",
    "         'top_k': 100, 'print_accum': False, 'result_attr':'','file_path':''}\n",
    "res=f.runAlgorithm('tg_article_rank',params=params,feat_name=\"articlerank\")\n",
    "print(res)"
   ]
  },
  {
   "cell_type": "code",
   "execution_count": null,
   "id": "56182050-4a81-4e46-b45a-ed9969b9d04b",
   "metadata": {},
   "outputs": [],
   "source": [
    "f.installAlgorithm(\"tg_betweenness_cent\")"
   ]
  },
  {
   "cell_type": "code",
   "execution_count": null,
   "id": "d15783cb-4195-41c7-9375-cda4bf02e2c0",
   "metadata": {},
   "outputs": [],
   "source": [
    "params = {'v_type': 'Payer', 'e_type': 'Trans',\"re_type\":\"reverse_Trans\", 'max_hop': 10,\n",
    "         'top_k': 100, 'print_accum': False, 'result_attr':'','file_path':'','display_edges': False}\n",
    "\n",
    "res=f.runAlgorithm('tg_betweenness_cent',params=params,feat_name=\"bt_cent\")\n",
    "print(res)\n"
   ]
  },
  {
   "cell_type": "code",
   "execution_count": null,
   "id": "e910b837-9a47-42f7-b7cd-fff7a0623882",
   "metadata": {},
   "outputs": [],
   "source": [
    "f.installAlgorithm(\"tg_closeness_cent\")"
   ]
  },
  {
   "cell_type": "code",
   "execution_count": null,
   "id": "3ae44367-b0eb-4e6f-adbc-028d11e2afcd",
   "metadata": {},
   "outputs": [],
   "source": [
    "params = {'v_type': 'Payer', 'e_type': 'Trans',\"re_type\":\"reverse_Trans\", 'max_hop': 10,\n",
    "         'top_k': 100,'wf': True,'print_accum': False, 'result_attr':'','file_path':'','display_edges': False}\n",
    "\n",
    "res=f.runAlgorithm('tg_closeness_cent',params=params,feat_name=\"clos_cent\")\n",
    "print(res)"
   ]
  },
  {
   "cell_type": "code",
   "execution_count": null,
   "id": "3fb5def1-07a3-4026-8151-2885d573dc23",
   "metadata": {},
   "outputs": [],
   "source": [
    "f.installAlgorithm(\"tg_closeness_cent_approx\")"
   ]
  },
  {
   "cell_type": "code",
   "execution_count": null,
   "id": "f54380cd-21d9-493f-80cb-616799fb6925",
   "metadata": {},
   "outputs": [],
   "source": [
    "params = {'v_type': 'Payer', 'e_type': 'Trans','re_type':'reverse_Trans', 'max_hops': 10,'epsilon':0.1,\n",
    "         'top_k': 100,'k':100,'debug':0,'sample_index':0,'max_size':1000,'wf': True,'print_accum': False,'file_path':''}\n",
    "\n",
    "res=f.runAlgorithm('tg_closeness_cent_approx',params=params)\n",
    "print(res)"
   ]
  },
  {
   "cell_type": "code",
   "execution_count": null,
   "id": "b32720fb-4cb8-4273-b066-8496a634151a",
   "metadata": {},
   "outputs": [],
   "source": [
    "f.installAlgorithm(\"tg_degree_cent\")"
   ]
  },
  {
   "cell_type": "code",
   "execution_count": null,
   "id": "65543831-30a8-4957-9ad9-187af0728ec6",
   "metadata": {},
   "outputs": [],
   "source": [
    "\n",
    "params = {'v_type': 'Payer', 'e_type': 'Trans','re_type':'reverse_Trans', \"in_degree\":True,\"out_degree\":True,\n",
    "         'top_k': 100,'print_accum': False,'result_attr':'','file_path':''}\n",
    "\n",
    "res=f.runAlgorithm('tg_degree_cent',params=params,feat_name='dg_cent')\n",
    "print(res)"
   ]
  },
  {
   "cell_type": "code",
   "execution_count": null,
   "id": "68a67c07-edc9-4a8e-b4ef-21447b2e8dd8",
   "metadata": {},
   "outputs": [],
   "source": [
    "f.installAlgorithm(\"tg_eigenvector_cent\")"
   ]
  },
  {
   "cell_type": "code",
   "execution_count": null,
   "id": "05ccc415-73d4-4c37-8044-f18a404a0f1f",
   "metadata": {},
   "outputs": [],
   "source": [
    "params = {'v_type': 'Payer', 'e_type': ['Trans','reverse_Trans'], 'maxIter': 100,'convLimit':0.000001,\n",
    "         'top_k': 100,'print_accum': False,'result_attr':'','file_path':''}\n",
    "\n",
    "res=f.runAlgorithm('tg_eigenvector_cent',params=params,feat_name='eige_cent')\n",
    "print(res)"
   ]
  },
  {
   "cell_type": "code",
   "execution_count": null,
   "id": "86d7c384-87cf-4a76-8bdb-68fdf968f00b",
   "metadata": {},
   "outputs": [],
   "source": [
    "f.installAlgorithm(\"tg_harmonic_cent\")"
   ]
  },
  {
   "cell_type": "code",
   "execution_count": null,
   "id": "6da1013a-028d-4a76-86a1-ec9292f039d9",
   "metadata": {},
   "outputs": [],
   "source": [
    "params = {'v_type': 'Payer', 'e_type': 'Trans','re_type':'reverse_Trans', 'maxhops': 10,\n",
    "         'top_k': 100,'wf': True,'print_accum': False,'result_attr':'','file_path':'','display_edges': False}\n",
    "\n",
    "res=f.runAlgorithm('tg_harmonic_cent',params=params,feat_name='harm_cent')\n",
    "print(res)"
   ]
  },
  {
   "cell_type": "code",
   "execution_count": null,
   "id": "5149640e-32a9-4ba3-b189-8f0025d96125",
   "metadata": {},
   "outputs": [],
   "source": [
    "f.installAlgorithm(\"tg_pagerank_wt\")"
   ]
  },
  {
   "cell_type": "code",
   "execution_count": null,
   "id": "4f0ad5c1-9202-4290-b34e-8288342ded55",
   "metadata": {},
   "outputs": [],
   "source": [
    "params = {'v_type': 'Payer', 'e_type': 'Trans', 'max_change': 0.001, 'max_iter': 25, 'damping': 0.85, \n",
    "         'top_k': 100, 'print_accum': False, 'result_attr':'','file_path':'','display_edges': False}\n",
    "\n",
    "res=f.runAlgorithm('tg_pagerank_wt',params=params,feat_name=\"pagerank_wt\")\n",
    "print(res)"
   ]
  },
  {
   "cell_type": "code",
   "execution_count": null,
   "id": "26652f72-0bb9-45d7-bdff-3ad1c95cc13a",
   "metadata": {},
   "outputs": [],
   "source": [
    "f.installAlgorithm(\"tg_maximal_indep_set\")"
   ]
  },
  {
   "cell_type": "code",
   "execution_count": null,
   "id": "734f4859-ac44-4f0e-ad45-685175850d4b",
   "metadata": {},
   "outputs": [],
   "source": [
    "params = {'v_type': 'Payer', 'e_type': 'Trans','max_iter': 100,'print_accum': False,'file_path':''}\n",
    "\n",
    "res=f.runAlgorithm('tg_maximal_indep_set',params=params)\n",
    "print(res)"
   ]
  },
  {
   "cell_type": "code",
   "execution_count": null,
   "id": "832fb0fe-93b4-4ae6-9b1a-de7e3506c3ba",
   "metadata": {},
   "outputs": [],
   "source": [
    "f.installAlgorithm(\"tg_scc\")"
   ]
  },
  {
   "cell_type": "code",
   "execution_count": null,
   "id": "b8dfafc4-47af-4b1a-9da2-090558c79712",
   "metadata": {},
   "outputs": [],
   "source": [
    "params = {'v_type': 'Payer', 'e_type': 'Trans','rev_e_type':'reverse_Trans','top_k_dist':3,'output_limit':10,\n",
    "          'max_iter': 100,'iter_wcc':5,'print_accum': False,'result_attr':'','file_path':''}\n",
    "\n",
    "res=f.runAlgorithm('tg_scc',params=params,feat_name=\"scc1\")\n",
    "print(res)"
   ]
  },
  {
   "cell_type": "code",
   "execution_count": null,
   "id": "195e4542-911f-40b6-a6fe-5ec4a7ea5882",
   "metadata": {},
   "outputs": [],
   "source": [
    "f.installAlgorithm(\"tg_kcore\")"
   ]
  },
  {
   "cell_type": "code",
   "execution_count": null,
   "id": "e7a62e62-c9a5-494b-b087-0e120a9b045d",
   "metadata": {},
   "outputs": [],
   "source": [
    "params = {'v_type': 'Payer', 'e_type': 'Trans','k_min':0,'k_max':-1,\n",
    "          'print_accum': False,'result_attr':'','file_path':'','print_all_k':False,'show_shells':False}\n",
    "\n",
    "res=f.runAlgorithm('tg_kcore',params=params,feat_name=\"kcore\")\n",
    "print(res)"
   ]
  },
  {
   "cell_type": "code",
   "execution_count": null,
   "id": "077d8513-40e2-4f9a-90ac-b8ac3aa3a203",
   "metadata": {},
   "outputs": [],
   "source": [
    "f.installAlgorithm(query_name='tg_label_prop')"
   ]
  },
  {
   "cell_type": "code",
   "execution_count": null,
   "id": "12563dab-b96b-4f32-a07b-7a14c612d927",
   "metadata": {},
   "outputs": [],
   "source": [
    "params = {'v_type': 'Payer', 'e_type': ['Trans','reverse_Trans'], 'max_iter': 10,'attr':\"label\" ,'output_limit': 10, 'print_accum': True}\n",
    "\n",
    "f.runAlgorithm('tg_label_prop',params = params,feat_name=\"label\")"
   ]
  },
  {
   "cell_type": "code",
   "execution_count": null,
   "id": "fad86842-6264-4f6d-964a-d9a00b6b64db",
   "metadata": {},
   "outputs": [],
   "source": [
    "f.installAlgorithm(query_name='tg_lcc')"
   ]
  },
  {
   "cell_type": "code",
   "execution_count": null,
   "id": "3aab44fc-9788-4153-ac4a-d8848e4498cf",
   "metadata": {},
   "outputs": [],
   "source": [
    "params = {'v_type': 'Payer', 'e_type': 'Trans', 'top_k': 100, 'print_accum': False,'result_attr':\"\",'file_path' :\"\",'display_edges':False}\n",
    "\n",
    "f.runAlgorithm('tg_lcc',params = params,feat_name=\"lcc\")"
   ]
  },
  {
   "cell_type": "code",
   "execution_count": null,
   "id": "fdfa669c-4d41-4a49-b824-c90231d3bae6",
   "metadata": {},
   "outputs": [],
   "source": [
    "f.installAlgorithm(query_name='tg_louvain')"
   ]
  },
  {
   "cell_type": "code",
   "execution_count": null,
   "id": "33787c45-1b8f-4c12-ad61-95a6ca66132e",
   "metadata": {},
   "outputs": [],
   "source": [
    "params = {'v_type': 'Payer', 'e_type':['Trans','reverse_Trans'],'wt_attr':\"\",'max_iter':10,'result_attr':\"cid\",'file_path' :\"\",'print_info':True}\n",
    "res = f.runAlgorithm('tg_louvain',params,feat_name=\"cid\")\n",
    "print(res)"
   ]
  },
  {
   "cell_type": "code",
   "execution_count": null,
   "id": "554d5bc8-85b7-4a5a-ab8b-0fd8c2b467b0",
   "metadata": {},
   "outputs": [],
   "source": [
    "f.installAlgorithm(query_name='tg_tri_count_fast')"
   ]
  },
  {
   "cell_type": "code",
   "execution_count": null,
   "id": "d04a589e-da78-4ae7-91d1-efffe89abc10",
   "metadata": {},
   "outputs": [],
   "source": [
    "params = {'v_type': 'Payer', 'e_type': 'Trans'}\n",
    "\n",
    "f.runAlgorithm('tg_tri_count_fast',params = params)"
   ]
  },
  {
   "cell_type": "code",
   "execution_count": null,
   "id": "61608118-07f1-4fdf-b279-a49deedb2546",
   "metadata": {},
   "outputs": [],
   "source": [
    "f.installAlgorithm(query_name='tg_bfs')"
   ]
  },
  {
   "cell_type": "code",
   "execution_count": null,
   "id": "93d282e8-dc33-49c7-9a85-7f823929cd71",
   "metadata": {},
   "outputs": [],
   "source": [
    "params = {'v_type': 'Payer', 'e_type':['Trans','reverse_Trans'],'max_hops':10,\"v_start\":(\"C17166563\",\"Payer\"),\n",
    "          'print_accum':False,'result_attr':\"\",'file_path' :\"\",'display_edges':False}\n",
    "res = f.runAlgorithm('tg_bfs',params,feat_name=\"bfs\")\n",
    "print(res)"
   ]
  },
  {
   "cell_type": "code",
   "execution_count": null,
   "id": "219d5098-e36d-402e-95d2-834aa0c0870a",
   "metadata": {},
   "outputs": [],
   "source": [
    "f.installAlgorithm(query_name='tg_cycle_detection_count')"
   ]
  },
  {
   "cell_type": "code",
   "execution_count": null,
   "id": "fca902bb-8a35-4bc6-9eaa-f7e39c56bbec",
   "metadata": {},
   "outputs": [],
   "source": [
    "params = {'v_type': 'Payer', 'e_type': ['Trans','reverse_Trans'], 'depth': 3, 'batches': 3, 'print_accum': False}\n",
    "\n",
    "f.runAlgorithm('tg_cycle_detection_count',params = params)"
   ]
  },
  {
   "cell_type": "code",
   "execution_count": null,
   "id": "fa5e6503-e856-4bcc-8278-7ce1d7d4c684",
   "metadata": {},
   "outputs": [],
   "source": [
    "f.installAlgorithm(query_name='tg_shortest_ss_no_wt') "
   ]
  },
  {
   "cell_type": "code",
   "execution_count": null,
   "id": "38ef92b3-c9e6-4be5-ba1e-0ad8f07dc4f5",
   "metadata": {},
   "outputs": [],
   "source": [
    "params = {'source': (\"C17166563\",\"Payer\"),'v_type': 'Payer', 'e_type': ['Trans','reverse_Trans'],\n",
    "          'output_limit': -1, 'print_accum': False,'result_attr':\"\",'file_path' :\"\",'display_edges':False}\n",
    "\n",
    "f.runAlgorithm('tg_shortest_ss_no_wt',params = params,feat_name=\"ss_no_wt\")"
   ]
  },
  {
   "cell_type": "code",
   "execution_count": null,
   "id": "5c98caa6-50b0-49f5-a4ac-a15e5bd7c3ef",
   "metadata": {},
   "outputs": [],
   "source": [
    "f.installAlgorithm(query_name='tg_total_neighbors') "
   ]
  },
  {
   "cell_type": "code",
   "execution_count": null,
   "id": "8f54c21a-1c9b-4fc6-93eb-57918b9df105",
   "metadata": {},
   "outputs": [],
   "source": [
    "params={\"a\":(\"C17166563\",\"Payer\"),\"b\":(\"M1946091778\",\"Payer\"),\"e_type\":['Trans','reverse_Trans'],\"print_res\":True}\n",
    "\n",
    "f.runAlgorithm('tg_total_neighbors',params = params)"
   ]
  },
  {
   "cell_type": "code",
   "execution_count": null,
   "id": "a7311252-980d-46be-b654-4ac7cebe38f6",
   "metadata": {},
   "outputs": [],
   "source": [
    "f.installAlgorithm(query_name='tg_same_community') "
   ]
  },
  {
   "cell_type": "code",
   "execution_count": null,
   "id": "0cda874c-4a59-4225-9996-7c9f44fdfe05",
   "metadata": {},
   "outputs": [],
   "source": [
    "params={\"a\":(\"C17166563\",\"Payer\"),\"b\":(\"M1946091778\",\"Payer\"),\"e_type\":['Trans','reverse_Trans'],\n",
    "        \"community_attribute\":\"label\",\"community_attr_type\":\"INT\",\"print_res\":True}\n",
    "f.runAlgorithm('tg_same_community',params)"
   ]
  },
  {
   "cell_type": "code",
   "execution_count": null,
   "id": "c6d9a5c9-052b-4b7e-9d59-c450c46255e8",
   "metadata": {},
   "outputs": [],
   "source": [
    "f.installAlgorithm(query_name='tg_preferential_attachment')  "
   ]
  },
  {
   "cell_type": "code",
   "execution_count": null,
   "id": "8408fa8d-2cb1-40a1-adcd-019c97942d63",
   "metadata": {},
   "outputs": [],
   "source": [
    "params={\"a\":(\"C17166563\",\"Payer\"),\"b\":(\"M1946091778\",\"Payer\"),\"e_type\":['Trans','reverse_Trans'],\"print_res\":True}\n",
    "f.runAlgorithm('tg_preferential_attachment',params)"
   ]
  },
  {
   "cell_type": "code",
   "execution_count": null,
   "id": "da474ae2-26d2-4849-a4f5-f79ddd4a51e5",
   "metadata": {},
   "outputs": [],
   "source": [
    "f.installAlgorithm(query_name='tg_common_neighbors')  "
   ]
  },
  {
   "cell_type": "code",
   "execution_count": null,
   "id": "d72b37a5-70bd-4d79-b493-ee8f236e7cf1",
   "metadata": {},
   "outputs": [],
   "source": [
    "params={\"a\":(\"C17166563\",\"Payer\"),\"b\":(\"M1946091778\",\"Payer\"),\"e_type\":\"Trans\",\"print_res\":True}#\"C17166563\", \"M1946091778\"\n",
    "res=f.runAlgorithm('tg_common_neighbors',params)\n",
    "res"
   ]
  },
  {
   "cell_type": "code",
   "execution_count": null,
   "id": "4ac80e53-b49b-4aa2-a83c-6638fdce7f25",
   "metadata": {},
   "outputs": [],
   "source": [
    "f.installAlgorithm(\"tg_fastRP\")"
   ]
  },
  {
   "cell_type": "code",
   "execution_count": null,
   "id": "664e8b57-285a-4cc8-b19f-d07a2e160d7b",
   "metadata": {},
   "outputs": [],
   "source": [
    "params = {'v_type': 'Payer', 'e_type': ['Trans','reverse_Trans'], 'weights': '1,1,2', 'beta': -0.85, 'k': 3, 'reduced_dim': 128, \n",
    "          'sampling_constant': 1, 'random_seed': 42, 'print_accum': False,'result_attr':\"\",'file_path' :\"\"}\n",
    "f.runAlgorithm('tg_fastRP',params,feat_name =\"fastrp_embedding\")"
   ]
  }
 ],
 "metadata": {
  "kernelspec": {
   "display_name": "Python 3 (ipykernel)",
   "language": "python",
   "name": "python3"
  },
  "language_info": {
   "codemirror_mode": {
    "name": "ipython",
    "version": 3
   },
   "file_extension": ".py",
   "mimetype": "text/x-python",
   "name": "python",
   "nbconvert_exporter": "python",
   "pygments_lexer": "ipython3",
   "version": "3.9.7"
  }
 },
 "nbformat": 4,
 "nbformat_minor": 5
}
